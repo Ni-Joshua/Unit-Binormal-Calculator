{
 "cells": [
  {
   "cell_type": "code",
   "execution_count": 2,
   "metadata": {},
   "outputs": [],
   "source": [
    "import sympy as sp\n",
    "from sympy import*\n",
    "from sympy.vector import*"
   ]
  },
  {
   "cell_type": "code",
   "execution_count": 257,
   "metadata": {},
   "outputs": [],
   "source": [
    "def tangent(vec):\n",
    "    return vec.diff()\n",
    "\n",
    "def unitTangent(vec):\n",
    "    tang = tangent(vec)\n",
    "    return tang.normalize()\n",
    "\n",
    "def normal(vec):\n",
    "    unitTan = unitTangent(vec)\n",
    "    return unitTan.diff()\n",
    "\n",
    "def unitNormal(vec):\n",
    "    norm = normal(vec)\n",
    "    return norm.normalize()\n",
    "\n",
    "def unitBinormal(vec):\n",
    "    unitTan = unitTangent(vec)\n",
    "    unitNorm = unitNormal(vec)\n",
    "    return unitTan.cross(unitNorm)\n",
    "\n",
    "def curvature(vec):\n",
    "    deriv1 = vec.diff()\n",
    "    deriv2 = deriv1.diff()\n",
    "    return (deriv1.cross(deriv2)).magnitude()/((deriv1).magnitude()**3)\n",
    "\n",
    "def torsion(vec):\n",
    "    deriv1 = vec.diff()\n",
    "    deriv2 = deriv1.diff()\n",
    "    deriv3 = deriv2.diff()\n",
    "    return -1*(deriv1.cross(deriv2).dot(deriv3))/((deriv1.cross(deriv2)).magnitude()**2)"
   ]
  },
  {
   "cell_type": "code",
   "execution_count": 241,
   "metadata": {},
   "outputs": [
    {
     "data": {
      "text/latex": [
       "$\\displaystyle \\left(t e^{2 t}\\right)\\mathbf{\\hat{i}_{}} + \\left(2 - t^{2}\\right)\\mathbf{\\hat{j}_{}} + \\left(- e^{2 t}\\right)\\mathbf{\\hat{k}_{}}$"
      ],
      "text/plain": [
       "(t*exp(2*t))*.i + (2 - t**2)*.j + (-exp(2*t))*.k"
      ]
     },
     "execution_count": 241,
     "metadata": {},
     "output_type": "execute_result"
    }
   ],
   "source": [
    "t = sp.symbols('t', real=True)\n",
    "C = CoordSys3D(\"\")\n",
    "# vec = Matrix([t**2+1, 3-t, t**3])\n",
    "vec = Matrix([t*sp.exp(2*t), 2 - t**2, -sp.exp(2*t)])\n",
    "vec = matrix_to_vector(vec, C)\n"
   ]
  },
  {
   "cell_type": "code",
   "execution_count": 201,
   "metadata": {},
   "outputs": [
    {
     "data": {
      "text/latex": [
       "$\\displaystyle \\frac{2 \\mathbf{\\hat{i}_{}} t e^{2 t} + \\mathbf{\\hat{i}_{}} e^{2 t} - 2 \\mathbf{\\hat{j}_{}} t - 2 \\mathbf{\\hat{k}_{}} e^{2 t}}{\\sqrt{4 t^{2} e^{4 t} + 4 t^{2} + 4 t e^{4 t} + 5 e^{4 t}}}$"
      ],
      "text/plain": [
       "(2*.i*t*exp(2*t) + .i*exp(2*t) - 2*.j*t - 2*.k*exp(2*t))/sqrt(4*t**2*exp(4*t) + 4*t**2 + 4*t*exp(4*t) + 5*exp(4*t))"
      ]
     },
     "execution_count": 201,
     "metadata": {},
     "output_type": "execute_result"
    }
   ],
   "source": [
    "tan = factor(unitTangent(vec))\n",
    "tan"
   ]
  },
  {
   "cell_type": "code",
   "execution_count": 232,
   "metadata": {},
   "outputs": [
    {
     "data": {
      "text/latex": [
       "$\\displaystyle \\frac{8 \\mathbf{\\hat{i}_{}} t^{3} + 4 \\mathbf{\\hat{i}_{}} t^{2} - 2 \\mathbf{\\hat{i}_{}} t + 4 \\mathbf{\\hat{i}_{}} e^{4 t} + 8 \\mathbf{\\hat{j}_{}} t^{3} e^{2 t} + 8 \\mathbf{\\hat{j}_{}} t^{2} e^{2 t} + 8 \\mathbf{\\hat{j}_{}} t e^{2 t} - 5 \\mathbf{\\hat{j}_{}} e^{2 t} - 8 \\mathbf{\\hat{k}_{}} t^{2} + 4 \\mathbf{\\hat{k}_{}} t e^{4 t} + 4 \\mathbf{\\hat{k}_{}} t + 2 \\mathbf{\\hat{k}_{}} e^{4 t}}{\\sqrt{\\left(4 t^{2} e^{4 t} + 4 t^{2} + 4 t e^{4 t} + 5 e^{4 t}\\right) \\left(16 t^{4} + 16 t^{3} + 12 t^{2} - 20 t + 4 e^{4 t} + 5\\right)}}$"
      ],
      "text/plain": [
       "(8*.i*t**3 + 4*.i*t**2 - 2*.i*t + 4*.i*exp(4*t) + 8*.j*t**3*exp(2*t) + 8*.j*t**2*exp(2*t) + 8*.j*t*exp(2*t) - 5*.j*exp(2*t) - 8*.k*t**2 + 4*.k*t*exp(4*t) + 4*.k*t + 2*.k*exp(4*t))/sqrt((4*t**2*exp(4*t) + 4*t**2 + 4*t*exp(4*t) + 5*exp(4*t))*(16*t**4 + 16*t**3 + 12*t**2 - 20*t + 4*exp(4*t) + 5))"
      ]
     },
     "execution_count": 232,
     "metadata": {},
     "output_type": "execute_result"
    }
   ],
   "source": [
    "norm = factor(unitNormal(vec))\n",
    "norm"
   ]
  },
  {
   "cell_type": "code",
   "execution_count": 1,
   "metadata": {},
   "outputs": [
    {
     "ename": "NameError",
     "evalue": "name 'factor' is not defined",
     "output_type": "error",
     "traceback": [
      "\u001b[1;31m---------------------------------------------------------------------------\u001b[0m",
      "\u001b[1;31mNameError\u001b[0m                                 Traceback (most recent call last)",
      "Cell \u001b[1;32mIn[1], line 1\u001b[0m\n\u001b[1;32m----> 1\u001b[0m binorm \u001b[38;5;241m=\u001b[39m \u001b[43mfactor\u001b[49m(unitBinormal(vec))\n\u001b[0;32m      2\u001b[0m binorm\n",
      "\u001b[1;31mNameError\u001b[0m: name 'factor' is not defined"
     ]
    }
   ],
   "source": [
    "binorm = factor(unitBinormal(vec))\n",
    "binorm"
   ]
  },
  {
   "cell_type": "code",
   "execution_count": 258,
   "metadata": {},
   "outputs": [
    {
     "data": {
      "text/latex": [
       "$\\displaystyle - \\frac{8 \\left(t - 1\\right)}{16 t^{4} + 16 t^{3} + 12 t^{2} - 20 t + 4 e^{4 t} + 5}$"
      ],
      "text/plain": [
       "-8*(t - 1)/(16*t**4 + 16*t**3 + 12*t**2 - 20*t + 4*exp(4*t) + 5)"
      ]
     },
     "execution_count": 258,
     "metadata": {},
     "output_type": "execute_result"
    }
   ],
   "source": [
    "tor = factor(torsion(vec))\n",
    "tor"
   ]
  }
 ],
 "metadata": {
  "kernelspec": {
   "display_name": "Python 3",
   "language": "python",
   "name": "python3"
  },
  "language_info": {
   "codemirror_mode": {
    "name": "ipython",
    "version": 3
   },
   "file_extension": ".py",
   "mimetype": "text/x-python",
   "name": "python",
   "nbconvert_exporter": "python",
   "pygments_lexer": "ipython3",
   "version": "3.10.11"
  }
 },
 "nbformat": 4,
 "nbformat_minor": 2
}
